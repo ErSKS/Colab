{
  "nbformat": 4,
  "nbformat_minor": 0,
  "metadata": {
    "kernelspec": {
      "display_name": "Python 3",
      "language": "python",
      "name": "python3"
    },
    "language_info": {
      "codemirror_mode": {
        "name": "ipython",
        "version": 3
      },
      "file_extension": ".py",
      "mimetype": "text/x-python",
      "name": "python",
      "nbconvert_exporter": "python",
      "pygments_lexer": "ipython3",
      "version": "3.6.4"
    },
    "colab": {
      "name": "05_Convolution Keras.ipynb",
      "provenance": [],
      "include_colab_link": true
    }
  },
  "cells": [
    {
      "cell_type": "markdown",
      "metadata": {
        "id": "view-in-github",
        "colab_type": "text"
      },
      "source": [
        "<a href=\"https://colab.research.google.com/github/ErSKS/Colab/blob/main/05_Convolution_Keras.ipynb\" target=\"_parent\"><img src=\"https://colab.research.google.com/assets/colab-badge.svg\" alt=\"Open In Colab\"/></a>"
      ]
    },
    {
      "cell_type": "markdown",
      "metadata": {
        "id": "gvJKj2QO69h7"
      },
      "source": [
        "### Import required libraries"
      ]
    },
    {
      "cell_type": "code",
      "metadata": {
        "id": "c3xbcFrn69iC",
        "outputId": "032d77ec-dc3e-4558-a318-0872c9c0265d"
      },
      "source": [
        "import keras\n",
        "from keras.datasets import mnist\n",
        "from keras.models import Sequential\n",
        "from keras.layers import Dense, Flatten, Dropout\n",
        "from keras.layers import Conv2D, MaxPooling2D\n",
        "\n",
        "from keras import backend as K"
      ],
      "execution_count": null,
      "outputs": [
        {
          "output_type": "stream",
          "text": [
            "Using TensorFlow backend.\n"
          ],
          "name": "stderr"
        }
      ]
    },
    {
      "cell_type": "markdown",
      "metadata": {
        "id": "A0G6Gngn69iF"
      },
      "source": [
        "### Declare batch size, number of output classes and epoch number"
      ]
    },
    {
      "cell_type": "code",
      "metadata": {
        "id": "FW6FrAoi69iF"
      },
      "source": [
        "batch_size = 128\n",
        "num_classes = 10\n",
        "epochs = 1"
      ],
      "execution_count": null,
      "outputs": []
    },
    {
      "cell_type": "markdown",
      "metadata": {
        "id": "YKzOuhZ569iF"
      },
      "source": [
        "### Declare image height and width"
      ]
    },
    {
      "cell_type": "code",
      "metadata": {
        "id": "lk0atfe669iG"
      },
      "source": [
        "img_rows, img_cols = 28, 28\n"
      ],
      "execution_count": null,
      "outputs": []
    },
    {
      "cell_type": "markdown",
      "metadata": {
        "id": "qM_YuhBm69iH"
      },
      "source": [
        "### Load dataset "
      ]
    },
    {
      "cell_type": "code",
      "metadata": {
        "id": "fUPTHzza69iH"
      },
      "source": [
        "(x_train, y_train), (x_test, y_test) = mnist.load_data()"
      ],
      "execution_count": null,
      "outputs": []
    },
    {
      "cell_type": "markdown",
      "metadata": {
        "id": "rmSkQLwW69iJ"
      },
      "source": [
        "Change the order of input and test dimension. Depending upon the backend used in keras, you may need to change the order by which keras process its input. Channel first order makes, the fist value of the vector to be number of image channels (i.e. RGB) and Channel last order makes it at the last value of the vector after width and height."
      ]
    },
    {
      "cell_type": "code",
      "metadata": {
        "id": "3l3C0FDG69iJ"
      },
      "source": [
        "if K.image_data_format() == 'channels_first':\n",
        "    x_train = x_train.reshape(x_train.shape[0], 1, img_rows, img_cols)\n",
        "    x_test = x_test.reshape(x_test.shape[0], 1, img_rows, img_cols)\n",
        "    input_shape = (1, img_rows, img_cols)\n",
        "else:\n",
        "    x_train = x_train.reshape(x_train.shape[0], img_rows, img_cols, 1)\n",
        "    x_test = x_test.reshape(x_test.shape[0], img_rows, img_cols, 1)\n",
        "    input_shape = (img_rows, img_cols, 1)"
      ],
      "execution_count": null,
      "outputs": []
    },
    {
      "cell_type": "markdown",
      "metadata": {
        "id": "5-vn75fl69iJ"
      },
      "source": [
        "### Make sure the train and test data is in Floating point format"
      ]
    },
    {
      "cell_type": "code",
      "metadata": {
        "id": "9a5jsE1869iK"
      },
      "source": [
        "x_train = x_train.astype('float32')\n",
        "x_test = x_test.astype('float32')"
      ],
      "execution_count": null,
      "outputs": []
    },
    {
      "cell_type": "markdown",
      "metadata": {
        "id": "hYhwAJw569iL"
      },
      "source": [
        "### Normalize the Data"
      ]
    },
    {
      "cell_type": "code",
      "metadata": {
        "id": "Nd4xg4MO69iL"
      },
      "source": [
        "x_train /= 255\n",
        "x_test /= 255"
      ],
      "execution_count": null,
      "outputs": []
    },
    {
      "cell_type": "markdown",
      "metadata": {
        "id": "odwekQaG69iL"
      },
      "source": [
        "### Check the shape of training data and test data"
      ]
    },
    {
      "cell_type": "code",
      "metadata": {
        "id": "9xuaw1EB69iL",
        "outputId": "e995a536-dfdf-4b70-c73d-40e616d1ab79"
      },
      "source": [
        "print('x_train shape:', x_train.shape)\n",
        "print(x_train.shape[0], 'train samples')\n",
        "print(x_test.shape[0], 'test samples')\n"
      ],
      "execution_count": null,
      "outputs": [
        {
          "output_type": "stream",
          "text": [
            "x_train shape: (60000, 28, 28, 1)\n",
            "60000 train samples\n",
            "10000 test samples\n"
          ],
          "name": "stdout"
        }
      ]
    },
    {
      "cell_type": "markdown",
      "metadata": {
        "id": "diWkE0_h69iM"
      },
      "source": [
        "### Change the output format inot One Hot Encoded format"
      ]
    },
    {
      "cell_type": "code",
      "metadata": {
        "id": "fMTP9sch69iN"
      },
      "source": [
        "y_train = keras.utils.to_categorical(y_train, num_classes)\n",
        "y_test = keras.utils.to_categorical(y_test, num_classes)"
      ],
      "execution_count": null,
      "outputs": []
    },
    {
      "cell_type": "markdown",
      "metadata": {
        "id": "9uCwHrnH69iN"
      },
      "source": [
        "### Initialize the Sequential Model"
      ]
    },
    {
      "cell_type": "code",
      "metadata": {
        "id": "dgyu_3yX69iN"
      },
      "source": [
        "model = Sequential()"
      ],
      "execution_count": null,
      "outputs": []
    },
    {
      "cell_type": "markdown",
      "metadata": {
        "id": "KXTnxX8m69iO"
      },
      "source": [
        "### Add Convolution Layers to the model"
      ]
    },
    {
      "cell_type": "code",
      "metadata": {
        "id": "q92Eo10Z69iO"
      },
      "source": [
        "model.add(Conv2D(32, kernel_size=(3, 3), \n",
        "                 activation='relu',\n",
        "                 input_shape=input_shape))"
      ],
      "execution_count": null,
      "outputs": []
    },
    {
      "cell_type": "markdown",
      "metadata": {
        "id": "ftfLRMMn69iO"
      },
      "source": [
        "### Add Maxpool Layer"
      ]
    },
    {
      "cell_type": "code",
      "metadata": {
        "id": "PQ1nlqRO69iO"
      },
      "source": [
        "model.add(MaxPooling2D(pool_size=(2, 2)))"
      ],
      "execution_count": null,
      "outputs": []
    },
    {
      "cell_type": "markdown",
      "metadata": {
        "id": "6M5vntoF69iO"
      },
      "source": [
        "### Flatten the output of the maxpool layer to feed into hidden layer of the network"
      ]
    },
    {
      "cell_type": "code",
      "metadata": {
        "id": "sa_q7Djd69iP"
      },
      "source": [
        "model.add(Flatten())"
      ],
      "execution_count": null,
      "outputs": []
    },
    {
      "cell_type": "markdown",
      "metadata": {
        "id": "cH37BXa569iQ"
      },
      "source": [
        "### Add Hidden Layer to the network"
      ]
    },
    {
      "cell_type": "code",
      "metadata": {
        "id": "dxuLdjFo69iQ"
      },
      "source": [
        "model.add(Dense(128, activation='relu'))"
      ],
      "execution_count": null,
      "outputs": []
    },
    {
      "cell_type": "markdown",
      "metadata": {
        "id": "fRqHAdwM69iQ"
      },
      "source": [
        "### Add Output layer to the network"
      ]
    },
    {
      "cell_type": "code",
      "metadata": {
        "id": "kS5DS3Eq69iQ"
      },
      "source": [
        "model.add(Dense(num_classes, activation='softmax'))"
      ],
      "execution_count": null,
      "outputs": []
    },
    {
      "cell_type": "markdown",
      "metadata": {
        "id": "APIv7BxV69iR"
      },
      "source": [
        "### Compile the network"
      ]
    },
    {
      "cell_type": "code",
      "metadata": {
        "id": "GygW3eth69iR"
      },
      "source": [
        "model.compile(loss=keras.losses.categorical_crossentropy,\n",
        "              optimizer=keras.optimizers.Adadelta(),\n",
        "              metrics=['accuracy'])"
      ],
      "execution_count": null,
      "outputs": []
    },
    {
      "cell_type": "markdown",
      "metadata": {
        "id": "pZMxdeyo69iR"
      },
      "source": [
        "### Train the Model"
      ]
    },
    {
      "cell_type": "code",
      "metadata": {
        "id": "HuXfrWsH69iR",
        "outputId": "8acd474a-f9ec-4c91-e3ca-b780c000e3b7"
      },
      "source": [
        "model.fit(x_train, y_train,\n",
        "          batch_size=batch_size,\n",
        "          epochs=epochs,\n",
        "          verbose=1,\n",
        "          validation_data=(x_test, y_test))"
      ],
      "execution_count": null,
      "outputs": [
        {
          "output_type": "stream",
          "text": [
            "Train on 60000 samples, validate on 10000 samples\n",
            "Epoch 1/1\n",
            "60000/60000 [==============================] - 36s - loss: 0.3143 - acc: 0.9139 - val_loss: 0.1359 - val_acc: 0.9598\n"
          ],
          "name": "stdout"
        },
        {
          "output_type": "execute_result",
          "data": {
            "text/plain": [
              "<keras.callbacks.History at 0x12e0e56d8>"
            ]
          },
          "metadata": {
            "tags": []
          },
          "execution_count": 17
        }
      ]
    },
    {
      "cell_type": "markdown",
      "metadata": {
        "id": "pCQw3SMZ69iR"
      },
      "source": [
        "### Check the model performance"
      ]
    },
    {
      "cell_type": "code",
      "metadata": {
        "id": "_Jaqsygl69iS"
      },
      "source": [
        "score = model.evaluate(x_test, y_test, verbose=0)"
      ],
      "execution_count": null,
      "outputs": []
    },
    {
      "cell_type": "code",
      "metadata": {
        "id": "rdFh-lme69iS",
        "outputId": "3a1e9279-acbb-418b-d48f-a7021fccc5c1"
      },
      "source": [
        "print('Test loss:', score[0])\n",
        "print('Test accuracy:', score[1])"
      ],
      "execution_count": null,
      "outputs": [
        {
          "output_type": "stream",
          "text": [
            "Test loss: 0.135860345909\n",
            "Test accuracy: 0.9598\n"
          ],
          "name": "stdout"
        }
      ]
    },
    {
      "cell_type": "code",
      "metadata": {
        "collapsed": true,
        "id": "9BdJcthl69iT"
      },
      "source": [
        ""
      ],
      "execution_count": null,
      "outputs": []
    }
  ]
}