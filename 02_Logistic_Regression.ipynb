{
  "nbformat": 4,
  "nbformat_minor": 0,
  "metadata": {
    "kernelspec": {
      "display_name": "Python 3",
      "language": "python",
      "name": "python3"
    },
    "language_info": {
      "codemirror_mode": {
        "name": "ipython",
        "version": 3
      },
      "file_extension": ".py",
      "mimetype": "text/x-python",
      "name": "python",
      "nbconvert_exporter": "python",
      "pygments_lexer": "ipython3",
      "version": "3.6.4"
    },
    "colab": {
      "name": "02_Logistic Regression.ipynb",
      "provenance": [],
      "include_colab_link": true
    }
  },
  "cells": [
    {
      "cell_type": "markdown",
      "metadata": {
        "id": "view-in-github",
        "colab_type": "text"
      },
      "source": [
        "<a href=\"https://colab.research.google.com/github/ErSKS/Colab/blob/main/02_Logistic_Regression.ipynb\" target=\"_parent\"><img src=\"https://colab.research.google.com/assets/colab-badge.svg\" alt=\"Open In Colab\"/></a>"
      ]
    },
    {
      "cell_type": "markdown",
      "metadata": {
        "id": "llupReFL6PrR"
      },
      "source": [
        "#### Importing required libraries"
      ]
    },
    {
      "cell_type": "code",
      "metadata": {
        "id": "1exc_vIi6PrY",
        "outputId": "19bb2b72-e1df-4cdb-9c7c-36168c84083f"
      },
      "source": [
        "import numpy as np\n",
        "\n",
        "from sklearn.preprocessing import OneHotEncoder\n",
        "\n",
        "import keras\n",
        "from keras.models import Sequential\n",
        "from keras.layers.core import Dense\n",
        "from keras.optimizers import SGD"
      ],
      "execution_count": null,
      "outputs": [
        {
          "output_type": "stream",
          "text": [
            "C:\\ProgramData\\Anaconda3\\lib\\site-packages\\h5py\\__init__.py:36: FutureWarning: Conversion of the second argument of issubdtype from `float` to `np.floating` is deprecated. In future, it will be treated as `np.float64 == np.dtype(float).type`.\n",
            "  from ._conv import register_converters as _register_converters\n",
            "Using TensorFlow backend.\n"
          ],
          "name": "stderr"
        }
      ]
    },
    {
      "cell_type": "markdown",
      "metadata": {
        "id": "fXuZ25wC6PrZ"
      },
      "source": [
        "#### Initializing Input array"
      ]
    },
    {
      "cell_type": "code",
      "metadata": {
        "id": "gZqi8z-M6Prt"
      },
      "source": [
        "input_array = [[0,0,0], [1,0,1], [0,1,0], [0,1,1], [1,1,1]]"
      ],
      "execution_count": null,
      "outputs": []
    },
    {
      "cell_type": "markdown",
      "metadata": {
        "id": "l9vuRQ196Prv"
      },
      "source": [
        "#### y = A OR (B AND C)"
      ]
    },
    {
      "cell_type": "code",
      "metadata": {
        "id": "SXQyqTDP6Prw"
      },
      "source": [
        "output_array = [0,1,0,1,1]"
      ],
      "execution_count": null,
      "outputs": []
    },
    {
      "cell_type": "code",
      "metadata": {
        "id": "ZIAzeQ7C6Prw"
      },
      "source": [
        "x = np.array(input_array)"
      ],
      "execution_count": null,
      "outputs": []
    },
    {
      "cell_type": "markdown",
      "metadata": {
        "id": "kcNqmx5m6Prx"
      },
      "source": [
        "#### First Value is number of examples and second value is dimension of that example"
      ]
    },
    {
      "cell_type": "code",
      "metadata": {
        "id": "EMLVnHYk6Prx",
        "outputId": "bbe62210-c368-4c01-ef4c-d77ecb430537"
      },
      "source": [
        "x.shape"
      ],
      "execution_count": null,
      "outputs": [
        {
          "output_type": "execute_result",
          "data": {
            "text/plain": [
              "(5, 3)"
            ]
          },
          "metadata": {
            "tags": []
          },
          "execution_count": 5
        }
      ]
    },
    {
      "cell_type": "markdown",
      "metadata": {
        "id": "0aD8MeK36Pry"
      },
      "source": [
        "#### Convert into One Hot output"
      ]
    },
    {
      "cell_type": "code",
      "metadata": {
        "id": "-EMrAT1v6Prz",
        "outputId": "dbb31cba-473d-4d9c-be8d-951ce51684e8"
      },
      "source": [
        "def onehot(x): return np.array(OneHotEncoder().fit_transform(x.reshape(-1,1)).todense())\n",
        "\n",
        "y = np.array(output_array)\n",
        "y = onehot(y)\n",
        "y"
      ],
      "execution_count": null,
      "outputs": [
        {
          "output_type": "execute_result",
          "data": {
            "text/plain": [
              "array([[1., 0.],\n",
              "       [0., 1.],\n",
              "       [1., 0.],\n",
              "       [0., 1.],\n",
              "       [0., 1.]])"
            ]
          },
          "metadata": {
            "tags": []
          },
          "execution_count": 6
        }
      ]
    },
    {
      "cell_type": "code",
      "metadata": {
        "id": "J8kMNS8f6Prz",
        "outputId": "b3fd6bef-540b-4e80-e897-b898f71bf554"
      },
      "source": [
        "y.shape"
      ],
      "execution_count": null,
      "outputs": [
        {
          "output_type": "execute_result",
          "data": {
            "text/plain": [
              "(5, 2)"
            ]
          },
          "metadata": {
            "tags": []
          },
          "execution_count": 7
        }
      ]
    },
    {
      "cell_type": "markdown",
      "metadata": {
        "id": "tcwS5tP76Pr1"
      },
      "source": [
        "### Initializing and Compiling Model"
      ]
    },
    {
      "cell_type": "code",
      "metadata": {
        "id": "tIF_4Y4-6Pr1"
      },
      "source": [
        "logis_model = Sequential([ Dense(2, activation='softmax', input_shape=(3,)) ])\n",
        "\n",
        "logis_model.compile(optimizer=SGD(lr=0.1), loss='categorical_crossentropy', metrics=['accuracy'])"
      ],
      "execution_count": null,
      "outputs": []
    },
    {
      "cell_type": "markdown",
      "metadata": {
        "id": "NaMzmLLz6Pr1"
      },
      "source": [
        "### Training your Model"
      ]
    },
    {
      "cell_type": "code",
      "metadata": {
        "id": "U1USHOxM6Pr1",
        "outputId": "5becff2b-19ee-4d3d-b702-b85e1154e640"
      },
      "source": [
        "logis_model.fit(x,y, epochs=10, batch_size=1)"
      ],
      "execution_count": null,
      "outputs": [
        {
          "output_type": "stream",
          "text": [
            "Epoch 1/10\n",
            "5/5 [==============================] - 0s 52ms/step - loss: 1.1166 - acc: 0.2000\n",
            "Epoch 2/10\n",
            "5/5 [==============================] - 0s 4ms/step - loss: 0.9327 - acc: 0.2000\n",
            "Epoch 3/10\n",
            "5/5 [==============================] - 0s 3ms/step - loss: 0.8205 - acc: 0.4000\n",
            "Epoch 4/10\n",
            "5/5 [==============================] - 0s 3ms/step - loss: 0.7423 - acc: 0.6000\n",
            "Epoch 5/10\n",
            "5/5 [==============================] - 0s 3ms/step - loss: 0.6845 - acc: 0.6000\n",
            "Epoch 6/10\n",
            "5/5 [==============================] - 0s 3ms/step - loss: 0.6320 - acc: 0.6000\n",
            "Epoch 7/10\n",
            "5/5 [==============================] - 0s 3ms/step - loss: 0.5885 - acc: 0.8000\n",
            "Epoch 8/10\n",
            "5/5 [==============================] - 0s 2ms/step - loss: 0.5493 - acc: 0.8000\n",
            "Epoch 9/10\n",
            "5/5 [==============================] - 0s 3ms/step - loss: 0.5128 - acc: 0.8000\n",
            "Epoch 10/10\n",
            "5/5 [==============================] - 0s 3ms/step - loss: 0.4808 - acc: 0.8000\n"
          ],
          "name": "stdout"
        },
        {
          "output_type": "execute_result",
          "data": {
            "text/plain": [
              "<keras.callbacks.History at 0x3fcaf5898>"
            ]
          },
          "metadata": {
            "tags": []
          },
          "execution_count": 9
        }
      ]
    },
    {
      "cell_type": "markdown",
      "metadata": {
        "id": "6MIXg8_f6Pr1"
      },
      "source": [
        "### Passing a Test input to classify that input into the class"
      ]
    },
    {
      "cell_type": "code",
      "metadata": {
        "id": "kCnwgw6i6Pr1"
      },
      "source": [
        "pred_x = [[1,0,0]]\n",
        "pred_x = np.array(pred_x)"
      ],
      "execution_count": null,
      "outputs": []
    },
    {
      "cell_type": "code",
      "metadata": {
        "id": "Bw_5nfHw6Pr2",
        "outputId": "23deaa53-c0df-41a1-f8fe-28fb73d13d2d"
      },
      "source": [
        "logis_model.predict_classes(pred_x)"
      ],
      "execution_count": null,
      "outputs": [
        {
          "output_type": "execute_result",
          "data": {
            "text/plain": [
              "array([1], dtype=int64)"
            ]
          },
          "metadata": {
            "tags": []
          },
          "execution_count": 11
        }
      ]
    },
    {
      "cell_type": "code",
      "metadata": {
        "collapsed": true,
        "id": "tE4pmzF86Pr2"
      },
      "source": [
        ""
      ],
      "execution_count": null,
      "outputs": []
    }
  ]
}