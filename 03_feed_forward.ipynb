{
  "nbformat": 4,
  "nbformat_minor": 0,
  "metadata": {
    "kernelspec": {
      "display_name": "Python 3",
      "language": "python",
      "name": "python3"
    },
    "colab": {
      "name": "03_feed_forward.ipynb",
      "provenance": [],
      "include_colab_link": true
    }
  },
  "cells": [
    {
      "cell_type": "markdown",
      "metadata": {
        "id": "view-in-github",
        "colab_type": "text"
      },
      "source": [
        "<a href=\"https://colab.research.google.com/github/ErSKS/Colab/blob/main/03_feed_forward.ipynb\" target=\"_parent\"><img src=\"https://colab.research.google.com/assets/colab-badge.svg\" alt=\"Open In Colab\"/></a>"
      ]
    },
    {
      "cell_type": "markdown",
      "metadata": {
        "id": "Vpl5o0yW6htt"
      },
      "source": [
        "### Import Libraries"
      ]
    },
    {
      "cell_type": "code",
      "metadata": {
        "collapsed": true,
        "id": "VjEfaa7w6htz"
      },
      "source": [
        "import ssl\n",
        "ssl._create_default_https_context = ssl._create_unverified_context"
      ],
      "execution_count": null,
      "outputs": []
    },
    {
      "cell_type": "code",
      "metadata": {
        "id": "yaKM9gsS6ht1"
      },
      "source": [
        "import keras\n",
        "\n",
        "from keras.datasets import mnist\n",
        "\n",
        "from keras.models import Sequential\n",
        "from keras.layers import Dense\n",
        "\n",
        "from keras.optimizers import RMSprop"
      ],
      "execution_count": null,
      "outputs": []
    },
    {
      "cell_type": "markdown",
      "metadata": {
        "id": "z5J_SItl6ht2"
      },
      "source": [
        "### Setting bactch size, number of classes and epochs"
      ]
    },
    {
      "cell_type": "code",
      "metadata": {
        "id": "-tDhqRqY6ht3"
      },
      "source": [
        "batch_size = 128\n",
        "num_classes = 10\n",
        "epochs = 10"
      ],
      "execution_count": null,
      "outputs": []
    },
    {
      "cell_type": "markdown",
      "metadata": {
        "id": "ngx6ezMn6ht3"
      },
      "source": [
        "### Load dataset"
      ]
    },
    {
      "cell_type": "code",
      "metadata": {
        "id": "q-RtAkM76ht5"
      },
      "source": [
        "(x_train, y_train), (x_test, y_test) = mnist.load_data()"
      ],
      "execution_count": null,
      "outputs": []
    },
    {
      "cell_type": "markdown",
      "metadata": {
        "id": "b0p-O6IZ6ht5"
      },
      "source": [
        "### Checking the input sizes"
      ]
    },
    {
      "cell_type": "code",
      "metadata": {
        "id": "H8A26cRy6ht5",
        "outputId": "d6c3e64e-c3ac-4406-bea8-1e68eb0e9338"
      },
      "source": [
        "print(x_train.shape[0], 'train samples')\n",
        "print(x_test.shape[0], 'test samples')\n",
        "\n",
        "print(y_train.shape[0], 'train labels')\n",
        "print(y_test.shape[0], 'test labels')\n",
        "\n",
        "print(x_train.shape, 'dimension of training data')\n",
        "print(x_test.shape, 'dimension of training data')\n",
        "\n",
        "print(y_train.shape, 'dimension of training label')"
      ],
      "execution_count": null,
      "outputs": [
        {
          "output_type": "stream",
          "text": [
            "60000 train samples\n",
            "10000 test samples\n",
            "60000 train labels\n",
            "10000 test labels\n",
            "(60000, 28, 28) dimension of training data\n",
            "(10000, 28, 28) dimension of training data\n",
            "(60000,) dimension of training label\n"
          ],
          "name": "stdout"
        }
      ]
    },
    {
      "cell_type": "markdown",
      "metadata": {
        "id": "LVqT1y_G6ht7"
      },
      "source": [
        "### Reshaping the input to fit into the model"
      ]
    },
    {
      "cell_type": "code",
      "metadata": {
        "id": "KMCS0diT6ht8",
        "outputId": "d708c864-1d1a-4b4e-df50-a879dbb2754e"
      },
      "source": [
        "x_train = x_train.reshape(60000, 784)\n",
        "x_test = x_test.reshape(10000, 784)\n",
        "\n",
        "x_train.shape"
      ],
      "execution_count": null,
      "outputs": [
        {
          "output_type": "execute_result",
          "data": {
            "text/plain": [
              "(60000, 784)"
            ]
          },
          "metadata": {
            "tags": []
          },
          "execution_count": 18
        }
      ]
    },
    {
      "cell_type": "markdown",
      "metadata": {
        "id": "4BuNYZFH6ht9"
      },
      "source": [
        "### Making sure the data in input are in floating point format"
      ]
    },
    {
      "cell_type": "code",
      "metadata": {
        "id": "zh9Adfys6ht9"
      },
      "source": [
        "x_train = x_train.astype('float32')\n",
        "x_test = x_test.astype('float32')"
      ],
      "execution_count": null,
      "outputs": []
    },
    {
      "cell_type": "markdown",
      "metadata": {
        "id": "PgsbDFK46ht9"
      },
      "source": [
        "### Normalizing the input"
      ]
    },
    {
      "cell_type": "code",
      "metadata": {
        "id": "fsg8rHAW6ht9"
      },
      "source": [
        "x_train /= 255\n",
        "x_test /= 255"
      ],
      "execution_count": null,
      "outputs": []
    },
    {
      "cell_type": "markdown",
      "metadata": {
        "id": "ctUkkxYu6ht-"
      },
      "source": [
        "### Converting the labels into One Hot Encoded Form"
      ]
    },
    {
      "cell_type": "code",
      "metadata": {
        "id": "N33YeqIO6ht-"
      },
      "source": [
        "y_train = keras.utils.to_categorical(y_train, num_classes)\n",
        "y_test = keras.utils.to_categorical(y_test, num_classes)"
      ],
      "execution_count": null,
      "outputs": []
    },
    {
      "cell_type": "code",
      "metadata": {
        "id": "QE1nlVQK6ht-",
        "outputId": "d15125ce-6fa9-4388-a8a2-712b96f3acf9"
      },
      "source": [
        "y_train.shape\n",
        "\n",
        "y_train[0]"
      ],
      "execution_count": null,
      "outputs": [
        {
          "output_type": "execute_result",
          "data": {
            "text/plain": [
              "array([0., 0., 0., 0., 0., 1., 0., 0., 0., 0.])"
            ]
          },
          "metadata": {
            "tags": []
          },
          "execution_count": 22
        }
      ]
    },
    {
      "cell_type": "markdown",
      "metadata": {
        "id": "qMohxVKh6ht_"
      },
      "source": [
        "### Model Creation : Single Hidden Layer Feed Forward Neural Network"
      ]
    },
    {
      "cell_type": "code",
      "metadata": {
        "id": "v5599q7p6ht_"
      },
      "source": [
        "model = Sequential()\n",
        "model.add(Dense(512, activation='relu', input_shape=(784,)))\n",
        "model.add(Dense(num_classes, activation='softmax'))"
      ],
      "execution_count": null,
      "outputs": []
    },
    {
      "cell_type": "markdown",
      "metadata": {
        "id": "BeeqwVZ76huA"
      },
      "source": [
        "### Checking the Architecture of the Model"
      ]
    },
    {
      "cell_type": "code",
      "metadata": {
        "id": "J_qkQFNz6huA",
        "outputId": "259647b7-4ad7-4030-9881-b158e628155f"
      },
      "source": [
        "model.summary()"
      ],
      "execution_count": null,
      "outputs": [
        {
          "output_type": "stream",
          "text": [
            "_________________________________________________________________\n",
            "Layer (type)                 Output Shape              Param #   \n",
            "=================================================================\n",
            "dense_3 (Dense)              (None, 512)               401920    \n",
            "_________________________________________________________________\n",
            "dense_4 (Dense)              (None, 10)                5130      \n",
            "=================================================================\n",
            "Total params: 407,050\n",
            "Trainable params: 407,050\n",
            "Non-trainable params: 0\n",
            "_________________________________________________________________\n"
          ],
          "name": "stdout"
        }
      ]
    },
    {
      "cell_type": "markdown",
      "metadata": {
        "id": "02YUQPeE6huA"
      },
      "source": [
        "### Compiling the model"
      ]
    },
    {
      "cell_type": "code",
      "metadata": {
        "id": "DNJ8inHC6huA"
      },
      "source": [
        "model.compile(loss='categorical_crossentropy',\n",
        "              optimizer=RMSprop(),\n",
        "              metrics=['accuracy'])"
      ],
      "execution_count": null,
      "outputs": []
    },
    {
      "cell_type": "markdown",
      "metadata": {
        "id": "094j-8X_6huB"
      },
      "source": [
        "### Training the Model"
      ]
    },
    {
      "cell_type": "code",
      "metadata": {
        "id": "g6JMztZx6huB",
        "outputId": "e82d4501-eacf-4b68-baa5-f18e4af57705"
      },
      "source": [
        "model.fit(x_train, y_train, batch_size=batch_size, epochs=epochs, verbose=1, validation_data=(x_test, y_test))"
      ],
      "execution_count": null,
      "outputs": [
        {
          "output_type": "stream",
          "text": [
            "Train on 60000 samples, validate on 10000 samples\n",
            "Epoch 1/10\n",
            "60000/60000 [==============================] - 8s 132us/step - loss: 0.2589 - acc: 0.9251 - val_loss: 0.1377 - val_acc: 0.9591\n",
            "Epoch 2/10\n",
            "60000/60000 [==============================] - 8s 128us/step - loss: 0.1046 - acc: 0.9685 - val_loss: 0.0934 - val_acc: 0.9718\n",
            "Epoch 3/10\n",
            "60000/60000 [==============================] - 8s 136us/step - loss: 0.0690 - acc: 0.9795 - val_loss: 0.0713 - val_acc: 0.9793\n",
            "Epoch 4/10\n",
            "60000/60000 [==============================] - 9s 144us/step - loss: 0.0503 - acc: 0.9849 - val_loss: 0.0657 - val_acc: 0.9802\n",
            "Epoch 5/10\n",
            "60000/60000 [==============================] - 9s 149us/step - loss: 0.0371 - acc: 0.9893 - val_loss: 0.0809 - val_acc: 0.9765\n",
            "Epoch 6/10\n",
            "60000/60000 [==============================] - 9s 155us/step - loss: 0.0289 - acc: 0.9914 - val_loss: 0.0619 - val_acc: 0.9813\n",
            "Epoch 7/10\n",
            "60000/60000 [==============================] - 8s 139us/step - loss: 0.0226 - acc: 0.9934 - val_loss: 0.0677 - val_acc: 0.9808\n",
            "Epoch 8/10\n",
            "60000/60000 [==============================] - 8s 130us/step - loss: 0.0170 - acc: 0.9951 - val_loss: 0.0637 - val_acc: 0.9814\n",
            "Epoch 9/10\n",
            "60000/60000 [==============================] - 8s 129us/step - loss: 0.0137 - acc: 0.9959 - val_loss: 0.0600 - val_acc: 0.9846\n",
            "Epoch 10/10\n",
            "60000/60000 [==============================] - 9s 144us/step - loss: 0.0104 - acc: 0.9972 - val_loss: 0.0640 - val_acc: 0.9841\n"
          ],
          "name": "stdout"
        },
        {
          "output_type": "execute_result",
          "data": {
            "text/plain": [
              "<keras.callbacks.History at 0xd7d729a208>"
            ]
          },
          "metadata": {
            "tags": []
          },
          "execution_count": 26
        }
      ]
    },
    {
      "cell_type": "markdown",
      "metadata": {
        "id": "j8JlUghP6huC"
      },
      "source": [
        "### Evaluating the model"
      ]
    },
    {
      "cell_type": "code",
      "metadata": {
        "id": "l_qPSnF86huC"
      },
      "source": [
        "score = model.evaluate(x_test, y_test, verbose=0)"
      ],
      "execution_count": null,
      "outputs": []
    },
    {
      "cell_type": "code",
      "metadata": {
        "id": "Yw28cwHI6huC",
        "outputId": "26681b7f-e340-4349-b91f-60c6bf6d16a8"
      },
      "source": [
        "print('Test loss:', score[0])\n",
        "print('Test accuracy:', score[1])"
      ],
      "execution_count": null,
      "outputs": [
        {
          "output_type": "stream",
          "text": [
            "Test loss: 0.06395056183675951\n",
            "Test accuracy: 0.9841\n"
          ],
          "name": "stdout"
        }
      ]
    },
    {
      "cell_type": "code",
      "metadata": {
        "collapsed": true,
        "id": "K1cKT2Ar6huD"
      },
      "source": [
        ""
      ],
      "execution_count": null,
      "outputs": []
    }
  ]
}