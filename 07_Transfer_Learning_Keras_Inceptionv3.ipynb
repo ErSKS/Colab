{
  "nbformat": 4,
  "nbformat_minor": 0,
  "metadata": {
    "kernelspec": {
      "display_name": "Python 3",
      "language": "python",
      "name": "python3"
    },
    "language_info": {
      "codemirror_mode": {
        "name": "ipython",
        "version": 3
      },
      "file_extension": ".py",
      "mimetype": "text/x-python",
      "name": "python",
      "nbconvert_exporter": "python",
      "pygments_lexer": "ipython3",
      "version": "3.6.4"
    },
    "colab": {
      "name": "07_Transfer Learning Keras Inceptionv3.ipynb",
      "provenance": [],
      "include_colab_link": true
    }
  },
  "cells": [
    {
      "cell_type": "markdown",
      "metadata": {
        "id": "view-in-github",
        "colab_type": "text"
      },
      "source": [
        "<a href=\"https://colab.research.google.com/github/ErSKS/Colab/blob/main/07_Transfer_Learning_Keras_Inceptionv3.ipynb\" target=\"_parent\"><img src=\"https://colab.research.google.com/assets/colab-badge.svg\" alt=\"Open In Colab\"/></a>"
      ]
    },
    {
      "cell_type": "markdown",
      "metadata": {
        "id": "iAOqfUkg7iCl"
      },
      "source": [
        "#### Import Required Libraries"
      ]
    },
    {
      "cell_type": "code",
      "metadata": {
        "id": "PQw8HIoL7iCs",
        "outputId": "8872845b-f1a2-401f-f041-9c9f79f20c85"
      },
      "source": [
        "import ssl\n",
        "ssl._create_default_https_context = ssl._create_unverified_context\n",
        "\n",
        "import os\n",
        "import sys\n",
        "import glob\n",
        "\n",
        "from keras import __version__\n",
        "from keras.applications.inception_v3 import InceptionV3, preprocess_input\n",
        "from keras.models import Model\n",
        "from keras.layers import Dense, GlobalAveragePooling2D\n",
        "from keras.preprocessing.image import ImageDataGenerator\n",
        "from keras.optimizers import SGD"
      ],
      "execution_count": null,
      "outputs": [
        {
          "output_type": "stream",
          "text": [
            "Using TensorFlow backend.\n"
          ],
          "name": "stderr"
        }
      ]
    },
    {
      "cell_type": "markdown",
      "metadata": {
        "id": "JIhE-5aP7iCu"
      },
      "source": [
        "#### Configure Image width, height, number of epochs, batch size, fully connected layer neurons and number of layers to freeze on fine-tuning"
      ]
    },
    {
      "cell_type": "code",
      "metadata": {
        "id": "hjLbIEWS7iCv"
      },
      "source": [
        "IM_WIDTH, IM_HEIGHT = 299, 299 #fixed size for InceptionV3\n",
        "NB_EPOCHS = 3\n",
        "BAT_SIZE = 1\n",
        "FC_SIZE = 1024\n",
        "NB_IV3_LAYERS_TO_FREEZE = 172"
      ],
      "execution_count": null,
      "outputs": []
    },
    {
      "cell_type": "markdown",
      "metadata": {
        "id": "J6Taz7-p7iCx"
      },
      "source": [
        "#### Get number of files by searching directory recursively"
      ]
    },
    {
      "cell_type": "code",
      "metadata": {
        "id": "35_ApPfG7iCx"
      },
      "source": [
        "def get_nb_files(directory):\n",
        "  \n",
        "  if not os.path.exists(directory):\n",
        "    return 0\n",
        "  cnt = 0\n",
        "  for r, dirs, files in os.walk(directory):\n",
        "    for dr in dirs:\n",
        "      cnt += len(glob.glob(os.path.join(r, dr + \"/*\")))\n",
        "  return cnt"
      ],
      "execution_count": null,
      "outputs": []
    },
    {
      "cell_type": "markdown",
      "metadata": {
        "id": "PQGvXmAM7iCz"
      },
      "source": [
        "#### Freeze all layers of base inception model and compile the new model"
      ]
    },
    {
      "cell_type": "code",
      "metadata": {
        "id": "SnJYn0y-7iCz"
      },
      "source": [
        "def setup_to_transfer_learn(model, base_model):\n",
        "  \n",
        "  for layer in base_model.layers:\n",
        "    layer.trainable = False\n",
        "  model.compile(optimizer='rmsprop', loss='categorical_crossentropy', metrics=['accuracy'])"
      ],
      "execution_count": null,
      "outputs": []
    },
    {
      "cell_type": "markdown",
      "metadata": {
        "id": "bfU6zCa_7iC0"
      },
      "source": [
        "####   Add last layer to the convnet\n",
        "  Args: base_model: keras model excluding top, nb_classes: # of classes\n",
        "\n",
        "  Returns: new keras model with last layer"
      ]
    },
    {
      "cell_type": "code",
      "metadata": {
        "id": "m3K_APBh7iC1"
      },
      "source": [
        "def add_new_last_layer(base_model, nb_classes):\n",
        "\n",
        "  x = base_model.output\n",
        "  x = GlobalAveragePooling2D()(x)\n",
        "  x = Dense(FC_SIZE, activation='relu')(x) #new FC layer, random init\n",
        "  predictions = Dense(nb_classes, activation='softmax')(x) #new softmax layer\n",
        "  model = Model(inputs=base_model.input, outputs=predictions)\n",
        "  return model"
      ],
      "execution_count": null,
      "outputs": []
    },
    {
      "cell_type": "markdown",
      "metadata": {
        "id": "96undDmT7iC1"
      },
      "source": [
        "####   Freeze the bottom NB_IV3_LAYERS and retrain the remaining top layers.\n",
        "  note: NB_IV3_LAYERS corresponds to the top 2 inception blocks in the inceptionv3 arch\n",
        "  Args:\n",
        "    model: keras model"
      ]
    },
    {
      "cell_type": "code",
      "metadata": {
        "id": "IcLbsgkQ7iC2"
      },
      "source": [
        "def setup_to_finetune(model):\n",
        "\n",
        "  for layer in model.layers[:NB_IV3_LAYERS_TO_FREEZE]:\n",
        "     layer.trainable = False\n",
        "  for layer in model.layers[NB_IV3_LAYERS_TO_FREEZE:]:\n",
        "     layer.trainable = True\n",
        "  model.compile(optimizer=SGD(lr=0.0001, momentum=0.9), loss='categorical_crossentropy', metrics=['accuracy'])"
      ],
      "execution_count": null,
      "outputs": []
    },
    {
      "cell_type": "markdown",
      "metadata": {
        "id": "bGOzcwAj7iC4"
      },
      "source": [
        "#### Use transfer learning and fine-tuning to train a network on a new dataset"
      ]
    },
    {
      "cell_type": "code",
      "metadata": {
        "id": "ME6udMDh7iC4"
      },
      "source": [
        "nb_train_samples = get_nb_files('../cash_project_large_db/data_20/train/')\n",
        "nb_classes = len(glob.glob(\"../cash_project_large_db/data_20/train/*\"))\n",
        "nb_val_samples = get_nb_files('../cash_project_large_db/data_20/valid')\n",
        "nb_epoch = int(3)\n",
        "batch_size = int(32)"
      ],
      "execution_count": null,
      "outputs": []
    },
    {
      "cell_type": "markdown",
      "metadata": {
        "id": "p6QqwkgT7iC4"
      },
      "source": [
        "#### Prepare Data for Training"
      ]
    },
    {
      "cell_type": "code",
      "metadata": {
        "id": "OZRExzKp7iC4",
        "outputId": "7430f24c-bb17-4803-bec9-9cfa8cc908a4"
      },
      "source": [
        "train_datagen =  ImageDataGenerator(\n",
        "  preprocessing_function=preprocess_input,\n",
        "  rotation_range=30,\n",
        "  width_shift_range=0.2,\n",
        "  height_shift_range=0.2,\n",
        "  shear_range=0.2,\n",
        "  zoom_range=0.2,\n",
        "  horizontal_flip=True\n",
        ")\n",
        "\n",
        "train_generator = train_datagen.flow_from_directory(\n",
        "'../cash_project_large_db/data_20/train',\n",
        "target_size=(IM_WIDTH, IM_HEIGHT),\n",
        "batch_size=batch_size,\n",
        ")"
      ],
      "execution_count": null,
      "outputs": [
        {
          "output_type": "stream",
          "text": [
            "Found 40 images belonging to 2 classes.\n"
          ],
          "name": "stdout"
        }
      ]
    },
    {
      "cell_type": "markdown",
      "metadata": {
        "id": "4QXzi8Tw7iC4"
      },
      "source": [
        "#### Prepare data for testing"
      ]
    },
    {
      "cell_type": "code",
      "metadata": {
        "id": "A-DSjDm97iC5",
        "outputId": "a45bbc24-6433-471a-bef3-b99e2de9224f"
      },
      "source": [
        "test_datagen = ImageDataGenerator(\n",
        "  preprocessing_function=preprocess_input,\n",
        "  rotation_range=30,\n",
        "  width_shift_range=0.2,\n",
        "  height_shift_range=0.2,\n",
        "  shear_range=0.2,\n",
        "  zoom_range=0.2,\n",
        "  horizontal_flip=True\n",
        ")\n",
        "\n",
        "validation_generator = test_datagen.flow_from_directory(\n",
        "'../cash_project_large_db/data_20/valid',\n",
        "target_size=(IM_WIDTH, IM_HEIGHT),\n",
        "batch_size=batch_size,\n",
        ")"
      ],
      "execution_count": null,
      "outputs": [
        {
          "output_type": "stream",
          "text": [
            "Found 8 images belonging to 2 classes.\n"
          ],
          "name": "stdout"
        }
      ]
    },
    {
      "cell_type": "markdown",
      "metadata": {
        "id": "UhFrcJHJ7iC5"
      },
      "source": [
        "#### Load Base model (InceptionV3 without Top Layers)"
      ]
    },
    {
      "cell_type": "code",
      "metadata": {
        "id": "Xn6xcnkn7iC5"
      },
      "source": [
        "base_model = InceptionV3(weights='imagenet', include_top=False)"
      ],
      "execution_count": null,
      "outputs": []
    },
    {
      "cell_type": "markdown",
      "metadata": {
        "id": "qg706Izb7iC5"
      },
      "source": [
        "#### Create a New Model with layers from base model and new top layers"
      ]
    },
    {
      "cell_type": "code",
      "metadata": {
        "id": "JaQyuJjW7iC6"
      },
      "source": [
        "model = add_new_last_layer(base_model, nb_classes)"
      ],
      "execution_count": null,
      "outputs": []
    },
    {
      "cell_type": "markdown",
      "metadata": {
        "id": "EIwZe0Qt7iC6"
      },
      "source": [
        "#### Setup Model for transfer learning \n",
        "By making base model layers non-trainable and only new top layers trainable, and compile the new model with RMSprop Optimizer"
      ]
    },
    {
      "cell_type": "code",
      "metadata": {
        "id": "3_-dSSGc7iC7"
      },
      "source": [
        "setup_to_transfer_learn(model, base_model)"
      ],
      "execution_count": null,
      "outputs": []
    },
    {
      "cell_type": "markdown",
      "metadata": {
        "id": "F2vIIOUl7iC7"
      },
      "source": [
        "#### Train the model"
      ]
    },
    {
      "cell_type": "code",
      "metadata": {
        "id": "FCceyRDN7iC8",
        "outputId": "39fb4d0c-5786-46f7-c90b-ddf4f0a5d96b"
      },
      "source": [
        "history_tl = model.fit_generator(\n",
        "train_generator,\n",
        "epochs=nb_epoch,\n",
        "steps_per_epoch=nb_train_samples,\n",
        "validation_data=validation_generator,\n",
        "validation_steps=nb_val_samples)"
      ],
      "execution_count": null,
      "outputs": [
        {
          "output_type": "stream",
          "text": [
            "Epoch 1/3\n",
            " 2/40 [>.............................] - ETA: 423s - loss: 5.4297 - acc: 0.4219"
          ],
          "name": "stdout"
        }
      ]
    },
    {
      "cell_type": "markdown",
      "metadata": {
        "id": "GdmvW5sD7iC8"
      },
      "source": [
        "#### Setup Model for finetune"
      ]
    },
    {
      "cell_type": "code",
      "metadata": {
        "collapsed": true,
        "id": "KqrtHkMJ7iC8"
      },
      "source": [
        "setup_to_finetune(model)"
      ],
      "execution_count": null,
      "outputs": []
    },
    {
      "cell_type": "markdown",
      "metadata": {
        "id": "ht4pAtjl7iC8"
      },
      "source": [
        "#### Again train the model with new configuration"
      ]
    },
    {
      "cell_type": "code",
      "metadata": {
        "id": "anudF23c7iC8",
        "outputId": "951ac934-a845-46c2-e4e4-9eb91dca3a20"
      },
      "source": [
        "history_ft = model.fit_generator(\n",
        "train_generator,\n",
        "steps_per_epoch=nb_train_samples,\n",
        "epochs=nb_epoch,\n",
        "validation_data=validation_generator,\n",
        "validation_steps=nb_val_samples)"
      ],
      "execution_count": null,
      "outputs": [
        {
          "output_type": "stream",
          "text": [
            "Epoch 1/3\n",
            "42/42 [==============================] - 919s - loss: 8.0590 - acc: 0.5000 - val_loss: 8.0590 - val_acc: 0.5000\n",
            "Epoch 2/3\n",
            "42/42 [==============================] - 916s - loss: 8.0848 - acc: 0.4984 - val_loss: 8.0590 - val_acc: 0.5000\n",
            "Epoch 3/3\n",
            "42/42 [==============================] - 957s - loss: 7.8787 - acc: 0.5112 - val_loss: 8.0590 - val_acc: 0.5000\n"
          ],
          "name": "stdout"
        }
      ]
    },
    {
      "cell_type": "markdown",
      "metadata": {
        "id": "jdLIsAOu7iC9"
      },
      "source": [
        "#### After Training save the model for future Evaluation use"
      ]
    },
    {
      "cell_type": "code",
      "metadata": {
        "collapsed": true,
        "id": "_H61Uziz7iC9"
      },
      "source": [
        "model.save('inceptionv3-ft_2.model')"
      ],
      "execution_count": null,
      "outputs": []
    },
    {
      "cell_type": "code",
      "metadata": {
        "collapsed": true,
        "id": "mrmYc0JJ7iC9"
      },
      "source": [
        ""
      ],
      "execution_count": null,
      "outputs": []
    }
  ]
}