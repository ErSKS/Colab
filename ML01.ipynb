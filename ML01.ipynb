{
  "nbformat": 4,
  "nbformat_minor": 0,
  "metadata": {
    "colab": {
      "name": "ML01.ipynb",
      "provenance": [],
      "collapsed_sections": [],
      "authorship_tag": "ABX9TyOh6u4Pbh2mUT30zAp3ZzNF",
      "include_colab_link": true
    },
    "kernelspec": {
      "name": "python3",
      "display_name": "Python 3"
    }
  },
  "cells": [
    {
      "cell_type": "markdown",
      "metadata": {
        "id": "view-in-github",
        "colab_type": "text"
      },
      "source": [
        "<a href=\"https://colab.research.google.com/github/ErSKS/Colab/blob/main/ML01.ipynb\" target=\"_parent\"><img src=\"https://colab.research.google.com/assets/colab-badge.svg\" alt=\"Open In Colab\"/></a>"
      ]
    },
    {
      "cell_type": "markdown",
      "metadata": {
        "id": "3mTm7EDPbfsj"
      },
      "source": [
        "# Welcome to Machine Learning using Google Colab !"
      ]
    },
    {
      "cell_type": "code",
      "metadata": {
        "colab": {
          "base_uri": "https://localhost:8080/"
        },
        "id": "w2Pkwv85bK0q",
        "outputId": "19c9492a-a82f-45bb-9cb7-571ebc3c45eb"
      },
      "source": [
        "import time\r\n",
        "print(time.ctime())"
      ],
      "execution_count": 1,
      "outputs": [
        {
          "output_type": "stream",
          "text": [
            "Mon Feb  8 02:17:22 2021\n"
          ],
          "name": "stdout"
        }
      ]
    },
    {
      "cell_type": "markdown",
      "metadata": {
        "id": "Ouu5FL4xcDcu"
      },
      "source": [
        "---\r\n",
        "\r\n",
        "# Artificial Intelligence\r\n",
        "\r\n",
        "\r\n",
        "**Khwopa College of Engineering**\r\n",
        "\r\n",
        "*Department of Computer Engineering*\r\n",
        "\r\n",
        "Libali ~2~ 8, Bhaktapur\r\n",
        "\r\n",
        "\r\n",
        "\r\n"
      ]
    },
    {
      "cell_type": "markdown",
      "metadata": {
        "id": "O9feM9g_c88Y"
      },
      "source": [
        "# Equations\r\n",
        "\r\n",
        "$\\sqrt{3x-1}+(1+x)^2$\r\n",
        "\r\n",
        "$e^x = \\sum_{i = 0}^\\infty \\frac{1}{i!}x^i$\r\n",
        "\r\n",
        "Constraints are\r\n",
        "   - $3x_1 + 6x_2 + x_3 =< 28$\r\n",
        "   - $7x_1 + 3x_2 + 2x_3 =< 37$\r\n",
        "   - $4x_1 + 5x_2 + 2x_3 =< 19$\r\n",
        "   - $x_1,x_2,x_3 >=0 $\r\n",
        "\r\n",
        "The trial vector is calculated as follows:\r\n",
        "- $u_i(t) = x_i(t) + \\beta(\\hat{x}(t) − x_i(t)) + \\beta \\sum_{k = 1}^{n_v}(x_{i1,k}(t) − x_{i2,k}(t))$\r\n",
        "$f(x_1, x_2) = 20 + e - 20exp(-0.2 \\sqrt {\\frac {1}{n} (x_1^2 + x_2^2)}) - exp (\\frac {1}{n}(cos(2\\pi x_1) + cos(2\\pi x_2))$\r\n",
        "\r\n",
        "$x ∈ [-5, 5]$\r\n",
        ">$A_{m,n} =\r\n",
        "   \\begin{pmatrix}\r\n",
        "   a_{1,1} > a_{1,2} > \\cdots > a_{1,n} \\\\\r\n",
        "   a_{2,1} > a_{2,2} > \\cdots > a_{2,n} \\\\\r\n",
        "   \\vdots > \\vdots > \\ddots > \\vdots \\\\\r\n",
        "   a_{m,1} > a_{m,2} > \\cdots > a_{m,n}\r\n",
        "   \\end{pmatrix}$\r\n"
      ]
    },
    {
      "cell_type": "markdown",
      "metadata": {
        "id": "Q7WEIemwdWqm"
      },
      "source": [
        ""
      ]
    },
    {
      "cell_type": "code",
      "metadata": {
        "id": "aSiNBMBRbrYB"
      },
      "source": [
        ""
      ],
      "execution_count": null,
      "outputs": []
    }
  ]
}